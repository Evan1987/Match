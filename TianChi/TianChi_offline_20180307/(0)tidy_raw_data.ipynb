{
 "cells": [
  {
   "cell_type": "code",
   "execution_count": 1,
   "metadata": {
    "collapsed": true
   },
   "outputs": [],
   "source": [
    "import pandas as pd\n",
    "import numpy as np\n",
    "import platform"
   ]
  },
  {
   "cell_type": "code",
   "execution_count": 4,
   "metadata": {
    "collapsed": true
   },
   "outputs": [],
   "source": [
    "system = platform.system()\n",
    "if system == \"windows\":\n",
    "    path = \"F:/Code projects/Python/Match/TianChi_offlline_20180307/\"\n",
    "elif system == \"ios\":\n",
    "    path = \"Usr/lixing/Code projects/Python/Match/TianChi_offlline_20180307/\"\n",
    "    \n",
    "item_dat = pd.read_csv(path + \"raw_data/tianchi_fresh_comp_train_item.csv\")\n",
    "user_dat = pd.read_csv(path + \"raw_data/tianchi_fresh_comp_train_user.csv\")"
   ]
  },
  {
   "cell_type": "code",
   "execution_count": 1,
   "metadata": {
    "collapsed": true
   },
   "outputs": [],
   "source": [
    "def clean_item_dat(item_dat):\n",
    "    # 对相同 item 的 geohash进行组合\n",
    "    clean_dat = item_dat\\\n",
    "    .groupby(\"item_id\", as_index=False)\\\n",
    "    .agg({\"item_geohash\": lambda rows: set([value for value in rows if value is not np.nan]),\n",
    "          \"item_category\": 'first'})\n",
    "    \n",
    "    clean_dat[\"geohash_num\"] = clean_dat[\"item_geohash\"].apply(len)\n",
    "    \n",
    "    return clean_dat"
   ]
  },
  {
   "cell_type": "code",
   "execution_count": 3,
   "metadata": {
    "collapsed": true
   },
   "outputs": [],
   "source": [
    "def clean_user_dat(user_dat):\n",
    "    # 取消 split方法，提高效率\n",
    "    user_dat[\"date\"] = user_dat[\"time\"].apply(lambda x: x[:10])\n",
    "    user_dat[\"hour\"] = user_dat[\"time\"].apply(lambda x: int(x[-2:]))\n",
    "    #time_dat = user_dat[\"time\"].apply(lambda x: x.split()).apply(pd.Series).rename(columns={0: \"date\", 1:\"hour\"})\n",
    "    #user_dat = pd.concat([user_dat.drop(\"time\", axis=1), time_dat], axis=1)\n",
    "    return user_dat.drop(\"time\", axis=1)"
   ]
  },
  {
   "cell_type": "code",
   "execution_count": 5,
   "metadata": {
    "collapsed": true
   },
   "outputs": [],
   "source": [
    "item_dat = clean_item_dat(item_dat)\n",
    "user_dat = clean_user_dat(user_dat)"
   ]
  },
  {
   "cell_type": "code",
   "execution_count": null,
   "metadata": {
    "collapsed": true
   },
   "outputs": [],
   "source": [
    "buy_dat = user_dat.loc[user_dat.behavior_type == 4]\n",
    "buy_dat.to_csv(path + \"clean_buy_dat.csv\", index=False)"
   ]
  },
  {
   "cell_type": "code",
   "execution_count": 8,
   "metadata": {
    "collapsed": true
   },
   "outputs": [],
   "source": [
    "item_dat.to_csv(path + \"clean_item_dat.csv\", index=False)\n",
    "user_dat.to_csv(path + \"clean_user_dat.csv\", index=False)"
   ]
  }
 ],
 "metadata": {
  "kernelspec": {
   "display_name": "Python 3",
   "language": "python",
   "name": "python3"
  },
  "language_info": {
   "codemirror_mode": {
    "name": "ipython",
    "version": 3
   },
   "file_extension": ".py",
   "mimetype": "text/x-python",
   "name": "python",
   "nbconvert_exporter": "python",
   "pygments_lexer": "ipython3",
   "version": "3.6.1"
  }
 },
 "nbformat": 4,
 "nbformat_minor": 2
}
